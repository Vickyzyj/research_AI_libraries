{
 "cells": [
  {
   "cell_type": "code",
   "execution_count": 3,
   "id": "d10990c2-e2ab-490c-9b39-11e6ed77966d",
   "metadata": {},
   "outputs": [],
   "source": [
    "from faiss_research.modules.preprocessing import create_img_dict, create_img_list, ImageLoader, process_query_image\n",
    "from faiss_research.modules.faiss_search import FaissSearch"
   ]
  },
  {
   "cell_type": "code",
   "execution_count": 9,
   "id": "bcb7d82c-2260-43ac-9b06-844e67bb1595",
   "metadata": {},
   "outputs": [
    {
     "name": "stdout",
     "output_type": "stream",
     "text": [
      "Number of animal images: 360\n"
     ]
    }
   ],
   "source": [
    "# Load images from folder\n",
    "folder_path = 'storage/animal_images/training'\n",
    "animal_dict = create_img_dict(folder_path)\n",
    "animal_img_list, labels, animal_names = create_img_list(animal_dict, folder_path)\n",
    "print('Number of animal images:', len(animal_img_list))"
   ]
  },
  {
   "cell_type": "code",
   "execution_count": 11,
   "id": "571cb154-9402-4fcf-b107-47a67aa3c593",
   "metadata": {},
   "outputs": [
    {
     "name": "stdout",
     "output_type": "stream",
     "text": [
      "tensor shape: torch.Size([360, 76800])\n"
     ]
    }
   ],
   "source": [
    "# Prepare training images\n",
    "loader = ImageLoader(image_size=160)\n",
    "training_dataset = loader.process(animal_img_list)\n",
    "print('tensor shape:', training_dataset.shape)"
   ]
  },
  {
   "cell_type": "code",
   "execution_count": 15,
   "id": "2477d427-fef0-481f-9743-e623a0322e0e",
   "metadata": {},
   "outputs": [
    {
     "name": "stdout",
     "output_type": "stream",
     "text": [
      "query shape: torch.Size([1, 76800])\n"
     ]
    }
   ],
   "source": [
    "# Process training image\n",
    "query_path = 'storage/animal_images/query/test_2.jpg'\n",
    "img_q = process_query_image(query_path, 160)\n",
    "print('query shape:', img_q.shape)"
   ]
  },
  {
   "cell_type": "code",
   "execution_count": null,
   "id": "ac03a4f5-ab4a-4ea4-9143-374ebcd6f010",
   "metadata": {},
   "outputs": [],
   "source": [
    "# Image search\n",
    "k = 10\n",
    "animal_search = FaissSearch()\n",
    "\n",
    "animal_search.flat_search(training_dataset)\n",
    "D, I = animal_search.search(img_q, k)\n",
    "print(I)\n",
    "print([animal_names[labels[i]] for i in I[0]])"
   ]
  },
  {
   "cell_type": "code",
   "execution_count": null,
   "id": "ec7c2936-ac8e-4f77-a759-ebcce6b5aeda",
   "metadata": {},
   "outputs": [],
   "source": []
  }
 ],
 "metadata": {
  "kernelspec": {
   "display_name": "Python 3 (ipykernel)",
   "language": "python",
   "name": "python3"
  },
  "language_info": {
   "codemirror_mode": {
    "name": "ipython",
    "version": 3
   },
   "file_extension": ".py",
   "mimetype": "text/x-python",
   "name": "python",
   "nbconvert_exporter": "python",
   "pygments_lexer": "ipython3",
   "version": "3.12.4"
  }
 },
 "nbformat": 4,
 "nbformat_minor": 5
}
