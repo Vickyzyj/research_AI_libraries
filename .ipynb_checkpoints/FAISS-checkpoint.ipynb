{
 "cells": [
  {
   "cell_type": "markdown",
   "id": "a629dea9-9df0-4076-852e-8d59c097f6d5",
   "metadata": {},
   "source": [
    "## FAISS for Animal Image Recognition"
   ]
  },
  {
   "cell_type": "code",
   "execution_count": 2,
   "id": "9cd7e8b7-9cf6-4551-b1c5-7c3ef8e4bd2c",
   "metadata": {},
   "outputs": [],
   "source": [
    "import os\n",
    "import numpy as np\n",
    "from PIL import Image\n",
    "\n",
    "from faiss_research.modules.preprocessing import create_img_dict, create_img_list\n",
    "from faiss_research.modules.embedding import ImageEmbedding\n",
    "from faiss_research.modules.faiss_search import FaissSearch"
   ]
  },
  {
   "cell_type": "markdown",
   "id": "5bde02d1-9fd4-42b5-82c3-93fa4aa4d65f",
   "metadata": {},
   "source": [
    "### I. Load and Preprocess Images"
   ]
  },
  {
   "cell_type": "code",
   "execution_count": 4,
   "id": "7d732f98-2fcb-440f-a55f-39a9d19db247",
   "metadata": {},
   "outputs": [
    {
     "name": "stdout",
     "output_type": "stream",
     "text": [
      "Number of animal images: 600\n"
     ]
    }
   ],
   "source": [
    "# Load images from folder\n",
    "folder_path = 'storage/animal_images/training'\n",
    "animal_dict = create_img_dict(folder_path)\n",
    "animal_img_list, labels, animal_names = create_img_list(animal_dict, folder_path)\n",
    "print('Number of animal images:', len(animal_img_list))"
   ]
  },
  {
   "cell_type": "code",
   "execution_count": 5,
   "id": "bfd1d022-e3eb-4739-87f1-a19dd9d8672a",
   "metadata": {},
   "outputs": [],
   "source": [
    "# Convert images to vectors\n",
    "preprocessed_img_list = [img for img, name in animal_img_list]\n",
    "img_embed = ImageEmbedding()\n",
    "training_dataset = img_embed.embed_list(preprocessed_img_list)"
   ]
  },
  {
   "cell_type": "markdown",
   "id": "1e17d864-2566-4bed-a321-14874548bb02",
   "metadata": {},
   "source": [
    "### II. Initiate and Train FAISS Model"
   ]
  },
  {
   "cell_type": "code",
   "execution_count": null,
   "id": "92d81102-3182-4f43-96d1-c4a1a24b264e",
   "metadata": {},
   "outputs": [
    {
     "name": "stdout",
     "output_type": "stream",
     "text": [
      "Flat index file saved successfully.\n"
     ]
    }
   ],
   "source": [
    "# Initiate FAISS\n",
    "animal_search = FaissSearch()\n",
    "\n",
    "# 1. Flat Search\n",
    "animal_search.flat_search(training_dataset, labels, animal_names)\n",
    "save_dir = 'faiss_research/pickle_files/Flat_index.pkl'\n",
    "animal_search.save(save_dir)\n",
    "print('Flat index file saved successfully.')\n",
    "\n",
    "# 2. LSH Search\n",
    "animal_search.lsh_search(training_dataset, labels, animal_names)\n",
    "save_dir = 'faiss_research/pickle_files/LSH_index.pkl'\n",
    "animal_search.save(save_dir)\n",
    "print('LSH index file saved successfully')\n",
    "\n",
    "# 3. HNSW Search\n",
    "animal_search.hnsw_search(training_dataset, labels, animal_names)\n",
    "save_dir = 'faiss_research/pickle_files/HNSW_index.pkl'\n",
    "animal_search.save(save_dir)\n",
    "print('HNSW index file saved successfully.')"
   ]
  },
  {
   "cell_type": "markdown",
   "id": "54f7958d-d5c4-4038-a83a-d90767dcb50b",
   "metadata": {},
   "source": [
    "### III. Test with Image Query"
   ]
  },
  {
   "cell_type": "markdown",
   "id": "3561cc9c-5776-43c5-ac9c-12e88e0bfa6f",
   "metadata": {},
   "source": [
    "### i. Define Query Function"
   ]
  },
  {
   "cell_type": "code",
   "execution_count": null,
   "id": "852f7280-bdc8-4496-8d30-c82beba6f3aa",
   "metadata": {},
   "outputs": [],
   "source": [
    "# Define image test function\n",
    "def test_images(index, test_folder, ground_truth):\n",
    "    test_img_files = []\n",
    "    for root, dirs, files in os.walk(test_folder):\n",
    "        test_img_files += [*files]\n",
    "\n",
    "    img_embed = ImageEmbedding()\n",
    "    k = 10\n",
    "    detc_labels = []\n",
    "    for img_file in test_img_files:\n",
    "        try:\n",
    "            img = Image.open(os.path.join(test_folder, img_file)).convert('RGB')\n",
    "        except:\n",
    "            continue\n",
    "\n",
    "        img_q = img_embed.embed_list([img])\n",
    "        label, D, I = index.search(img_q, k)\n",
    "        detc_labels.append(label)\n",
    "\n",
    "    print(f'Accuracy: {sum([1 if detc_labels[i]==ground_truth[i] else 0 for i in detc_labels])/len(detc_labels)*100:.2f}%')\n",
    "    print('\\n')"
   ]
  },
  {
   "cell_type": "markdown",
   "id": "23e70178-84c8-4bf9-a111-1bdd46797254",
   "metadata": {},
   "source": [
    "### ii. Initiate Test"
   ]
  },
  {
   "cell_type": "code",
   "execution_count": null,
   "id": "f00d1fd6-b7e7-45ab-b72a-f177ea49c424",
   "metadata": {},
   "outputs": [],
   "source": [
    "# Initiate Test\n",
    "test_folder = 'storage/animal_images/query'\n",
    "gt_file = os.path.join(test_folder, 'image_labels.txt')\n",
    "with open(gt_file, 'r') as f:\n",
    "    gt = [line.strip() for line in f]\n",
    "\n",
    "print(\"Ground Truths:\", gt)\n",
    "\n",
    "animal_search = FaissSearch()"
   ]
  },
  {
   "cell_type": "markdown",
   "id": "bfc3a97e-94b1-42ac-b7cb-7177d8375b2c",
   "metadata": {},
   "source": [
    "#### A. Flat Search"
   ]
  },
  {
   "cell_type": "code",
   "execution_count": null,
   "id": "b13afab0-5539-4f2b-807b-17a0845c32a0",
   "metadata": {},
   "outputs": [],
   "source": [
    "# Flat Search:\n",
    "print(\"Faiss Flat Search:\")\n",
    "load_dir = 'faiss_research/pickle_files/Flat_index.pkl'\n",
    "\n",
    "# Queries:\n",
    "saved_index = animal_search.load(load_dir)\n",
    "test_images(saved_index, test_folder, gt)"
   ]
  },
  {
   "cell_type": "markdown",
   "id": "0e420b2f-e29d-4420-bc9d-989e68588c97",
   "metadata": {},
   "source": [
    "#### B. LSH Search"
   ]
  },
  {
   "cell_type": "code",
   "execution_count": null,
   "id": "bd47b369-ba6b-41e2-a6f5-f776bbbe72fd",
   "metadata": {},
   "outputs": [],
   "source": [
    "# LSH Search:\n",
    "print(\"Faiss LSH Search:\")\n",
    "animal_search = FaissSearch()\n",
    "load_dir = 'faiss_research/pickle_files/LSH_index.pkl'\n",
    "\n",
    "# Queries:\n",
    "saved_index = animal_search.load(load_dir)\n",
    "test_images(saved_index, test_folder, gt)"
   ]
  },
  {
   "cell_type": "markdown",
   "id": "c64f5f75-2c56-4d72-9ecb-c59d53eaf7fb",
   "metadata": {},
   "source": [
    "#### C. HNSW Search"
   ]
  },
  {
   "cell_type": "code",
   "execution_count": null,
   "id": "e5ec33e7-ee46-428e-90ef-08eea41e517a",
   "metadata": {},
   "outputs": [],
   "source": [
    "# HNSW Search:\n",
    "print(\"Faiss HNSW Search:\")\n",
    "animal_search = FaissSearch()\n",
    "load_dir = 'faiss_research/pickle_files/HNSW_index.pkl'\n",
    "\n",
    "# Queries:\n",
    "saved_index = animal_search.load(load_dir)\n",
    "test_images(saved_index, test_folder, gt)"
   ]
  }
 ],
 "metadata": {
  "kernelspec": {
   "display_name": "Python 3 (ipykernel)",
   "language": "python",
   "name": "python3"
  },
  "language_info": {
   "codemirror_mode": {
    "name": "ipython",
    "version": 3
   },
   "file_extension": ".py",
   "mimetype": "text/x-python",
   "name": "python",
   "nbconvert_exporter": "python",
   "pygments_lexer": "ipython3",
   "version": "3.12.4"
  }
 },
 "nbformat": 4,
 "nbformat_minor": 5
}
